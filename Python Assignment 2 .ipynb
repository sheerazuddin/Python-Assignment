{
 "cells": [
  {
   "cell_type": "code",
   "execution_count": 1,
   "metadata": {},
   "outputs": [
    {
     "name": "stdout",
     "output_type": "stream",
     "text": [
      "Enter the number of inputs:5\n",
      "Enter the number of inputs:60\n",
      "60\n",
      "Enter the number of inputs:70\n",
      "130\n",
      "Enter the number of inputs:80\n",
      "210\n",
      "Enter the number of inputs:90\n",
      "300\n",
      "Enter the number of inputs:90\n",
      "390\n",
      "78.0\n",
      "your grade is A\n"
     ]
    }
   ],
   "source": [
    "total=0\n",
    "x=int(input(\"Enter the number of inputs:\"))\n",
    "for i in range(x):\n",
    "    y=int(input(\"Enter the number of inputs:\"))\n",
    "    total=total+y\n",
    "    print(total)\n",
    "    percentage=(total/500)*100\n",
    "print(percentage)\n",
    "if percentage>=80:\n",
    "    print(\"your grade is A+\")\n",
    "elif percentage>=70 and percentage<80:\n",
    "    print(\"your grade is A\")\n",
    "elif percentage>=60 and percentage<70:\n",
    "    print(\"your grade is B\")\n",
    "elif percentage>=50 and percentage<60:\n",
    "    print(\" your grade is C\")\n",
    "else:\n",
    "    print(\"Fail\")\n"
   ]
  },
  {
   "cell_type": "code",
   "execution_count": 2,
   "metadata": {},
   "outputs": [
    {
     "name": "stdout",
     "output_type": "stream",
     "text": [
      "Enter the number:7\n",
      "odd\n"
     ]
    }
   ],
   "source": [
    "x=int(input(\"Enter the number:\"))\n",
    "if x%2==0  :\n",
    "    print(\"Even\")\n",
    "else:\n",
    "    print(\"odd\")\n"
   ]
  },
  {
   "cell_type": "code",
   "execution_count": 3,
   "metadata": {},
   "outputs": [
    {
     "name": "stdout",
     "output_type": "stream",
     "text": [
      "Length is  4\n"
     ]
    }
   ],
   "source": [
    "L=[1,2,3,4]\n",
    "print(\"Length is \",len(L))\n"
   ]
  },
  {
   "cell_type": "code",
   "execution_count": 4,
   "metadata": {},
   "outputs": [
    {
     "name": "stdout",
     "output_type": "stream",
     "text": [
      "sum is 10\n"
     ]
    }
   ],
   "source": [
    "L=[1,2,3,4]\n",
    "print(\"sum is\",sum(L))\n"
   ]
  },
  {
   "cell_type": "code",
   "execution_count": 5,
   "metadata": {},
   "outputs": [
    {
     "name": "stdout",
     "output_type": "stream",
     "text": [
      "larger number is  9\n"
     ]
    }
   ],
   "source": [
    "L=[5,7,5,9,3,1]\n",
    "print(\"larger number is \",max(L))\n"
   ]
  },
  {
   "cell_type": "code",
   "execution_count": 6,
   "metadata": {},
   "outputs": [
    {
     "name": "stdout",
     "output_type": "stream",
     "text": [
      "1\n",
      "1\n",
      "2\n",
      "3\n"
     ]
    }
   ],
   "source": [
    "L=[1,1,2,3,5,8,13,21,34,55,89]\n",
    "for i in L:\n",
    "    if i<5:\n",
    "        print(i)\n"
   ]
  },
  {
   "cell_type": "code",
   "execution_count": null,
   "metadata": {},
   "outputs": [],
   "source": []
  }
 ],
 "metadata": {
  "kernelspec": {
   "display_name": "Python 3",
   "language": "python",
   "name": "python3"
  },
  "language_info": {
   "codemirror_mode": {
    "name": "ipython",
    "version": 3
   },
   "file_extension": ".py",
   "mimetype": "text/x-python",
   "name": "python",
   "nbconvert_exporter": "python",
   "pygments_lexer": "ipython3",
   "version": "3.7.4"
  }
 },
 "nbformat": 4,
 "nbformat_minor": 2
}
