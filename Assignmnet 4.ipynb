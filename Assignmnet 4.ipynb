{
 "cells": [
  {
   "cell_type": "code",
   "execution_count": 1,
   "metadata": {},
   "outputs": [
    {
     "name": "stdout",
     "output_type": "stream",
     "text": [
      "Muhammad\n",
      "Sheeraz\n",
      "20\n",
      "Karachi\n",
      "{'first_name': 'Muhammad', 'last_name': 'Sheeraz', 'age': 20, 'city': 'Karachi', 'qualification': 'intermediate'}\n",
      "{'first_name': 'Muhammad', 'last_name': 'Sheeraz', 'age': 20, 'city': 'Karachi'}\n"
     ]
    }
   ],
   "source": [
    "#QUESTION 1\n",
    "D={\"first_name\":\"Muhammad\",\"last_name\":\"Sheeraz\",\"age\":20,\"city\":\"Karachi\"}\n",
    "for x in D:\n",
    "  print(D[x])\n",
    "D[\"qualification\"]=\"intermediate\"\n",
    "print(D)\n",
    "D.pop(\"qualification\")\n",
    "print(D)"
   ]
  },
  {
   "cell_type": "code",
   "execution_count": 2,
   "metadata": {},
   "outputs": [
    {
     "name": "stdout",
     "output_type": "stream",
     "text": [
      "karachi INFO : {'country': 'Pakistan', 'population': '20 M', 'fact': 'trading hub'}\n",
      "Mumbai INFO : {'country': 'India', 'population': '200 M', 'fact': '2ND BIGGEST popuLATION'}\n",
      "sydney INFO : {'country': 'Australia', 'population': '5 M', 'fact': 'Opera house'}\n"
     ]
    }
   ],
   "source": [
    "#QUESTION 2\n",
    "cities={\"karachi\":{\"country\":\"Pakistan\",\"population\":\"20 M\",\"fact\":\"trading hub\"},\n",
    "        \"Mumbai\":{\"country\":\"India\",\"population\":\"200 M\",\"fact\":\"2ND BIGGEST popuLATION\"},\n",
    "        \"sydney\":{\"country\":\"Australia\",\"population\":\"5 M\",\"fact\":\"Opera house\"}}\n",
    "for k,v in cities.items():\n",
    "    print(k,\"INFO :\",v)"
   ]
  },
  {
   "cell_type": "code",
   "execution_count": 3,
   "metadata": {},
   "outputs": [
    {
     "name": "stdout",
     "output_type": "stream",
     "text": [
      "MY FAV BOOK IS Alice in Wonderland.\n"
     ]
    }
   ],
   "source": [
    "#QUESTION 4\n",
    "def favourite_book(title):\n",
    "    print(\"MY FAV BOOK IS\",title)\n",
    "favourite_book(\"Alice in Wonderland.\")"
   ]
  },
  {
   "cell_type": "code",
   "execution_count": 4,
   "metadata": {},
   "outputs": [
    {
     "name": "stdout",
     "output_type": "stream",
     "text": [
      "21\n",
      "enter Your GUESS4\n",
      "HINT : You entered smaller number\n",
      "CHANCE NO 1\n",
      "enter Your GUESS6\n",
      "HINT : You entered smaller number\n",
      "CHANCE NO 2\n",
      "enter Your GUESS9\n",
      "HINT : You entered smaller number\n",
      "CHANCE NO 3\n"
     ]
    }
   ],
   "source": [
    "#QUESTION 5\n",
    "import random\n",
    "number=random.randint(1,31)\n",
    "print(number)\n",
    "chances=0\n",
    "while chances<3:\n",
    "    guess=int(input('enter Your GUESS'))\n",
    "    if number<guess:\n",
    "        print(\"HINT : you entered larger number\")\n",
    "        chances=chances+1\n",
    "        print(\"CHANCE NO\",chances)\n",
    "    elif number>guess:\n",
    "        print(\"HINT : You entered smaller number\")\n",
    "        chances=chances+1\n",
    "        print(\"CHANCE NO\",chances)\n",
    "    elif number==guess:\n",
    "        print(\"you won\")\n",
    "    elif chances==3:\n",
    "        PRINT(\"YOU LOST\")"
   ]
  },
  {
   "cell_type": "code",
   "execution_count": null,
   "metadata": {},
   "outputs": [
    {
     "name": "stdout",
     "output_type": "stream",
     "text": [
      "enter your age:15\n",
      "Your price is: 15 $\n",
      "enter your age:7\n",
      "Your price is: 10 $\n",
      "enter your age:2\n",
      "Your ticket is free\n",
      "enter your age:0\n",
      "Your ticket is free\n"
     ]
    }
   ],
   "source": [
    "#QUESTION 3\n",
    "while True:\n",
    "    a=int(input('enter your age:'))\n",
    "    if a<3:\n",
    "        print(\"Your ticket is free\")\n",
    "    elif a>=3 and a<12:\n",
    "        print(\"Your price is:\",10,\"$\")\n",
    "    elif a>=12:\n",
    "        print(\"Your price is:\",15,\"$\")"
   ]
  },
  {
   "cell_type": "code",
   "execution_count": null,
   "metadata": {},
   "outputs": [],
   "source": []
  }
 ],
 "metadata": {
  "kernelspec": {
   "display_name": "Python 3",
   "language": "python",
   "name": "python3"
  },
  "language_info": {
   "codemirror_mode": {
    "name": "ipython",
    "version": 3
   },
   "file_extension": ".py",
   "mimetype": "text/x-python",
   "name": "python",
   "nbconvert_exporter": "python",
   "pygments_lexer": "ipython3",
   "version": "3.7.4"
  }
 },
 "nbformat": 4,
 "nbformat_minor": 2
}
