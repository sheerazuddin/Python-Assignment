{
 "cells": [
  {
   "cell_type": "code",
   "execution_count": null,
   "metadata": {},
   "outputs": [],
   "source": [
    "#Question 1\n",
    "Object-oriented programming (OOP) refers to a type of computer programming (software design) in which programmers define the\n",
    "data type of a data structure, and also the types of operations (functions) that can be applied to the data structure."
   ]
  },
  {
   "cell_type": "code",
   "execution_count": null,
   "metadata": {},
   "outputs": [],
   "source": [
    "#Question 2\n",
    "1. Re-usability\n",
    "2. Data Redundancy\n",
    "3. Code Maintenance\n",
    "4. Security\n",
    "5. Design Benefits\n",
    "7. Easy troubleshooting\n",
    "8. Polymorphism Flexibility"
   ]
  },
  {
   "cell_type": "code",
   "execution_count": null,
   "metadata": {},
   "outputs": [],
   "source": [
    "#Question 3\n",
    "* Unlike a function, methods are called on an object. Like in our example above we call our method .i.e. “my_method” on the\n",
    "object “cat” whereas the function “sum” is called without any object. Also, because the method is called on an object,\n",
    "it can access that data within it.\n",
    "\n",
    "* Unlike method which can alter the object’s state, python function doesn’t do this and normally operates on it."
   ]
  },
  {
   "cell_type": "code",
   "execution_count": null,
   "metadata": {},
   "outputs": [],
   "source": [
    "#Question 4\n",
    "*CLASS:\n",
    "A class is a user defined blueprint or prototype from which objects are created. It represents the set of properties or methods\n",
    "that are common to all objects of one type.\n",
    "*OBJECT: \n",
    "Object is simply a collection of data (variables) and methods (functions) that act on those data. And, class is a blueprint\n",
    "for the object.\n",
    "*ATTRIBUTE:\n",
    "Everything in Python is an object, and almost everything has attributes and methods. In python, functions too are objects.\n",
    "So they have attributes like other objects. \n",
    "*BEHAVIOUR:\n",
    "Objects in Python are generally classified according to their behaviors and the features that they implement."
   ]
  },
  {
   "cell_type": "code",
   "execution_count": 4,
   "metadata": {},
   "outputs": [
    {
     "name": "stdout",
     "output_type": "stream",
     "text": [
      "2018\n",
      "grey\n",
      "audi\n",
      "5\n",
      "1800cc\n"
     ]
    }
   ],
   "source": [
    "#Question 5\n",
    "class Car:\n",
    "    def __init__(self,model,color,name,seats,engine):\n",
    "        self.model=model\n",
    "        self.color=color\n",
    "        self.name=name\n",
    "        self.seats=seats\n",
    "        self.engine=engine\n",
    "    def changname(self,newname):\n",
    "        self.name=newname\n",
    "    def changemodel(self,newmodel):\n",
    "        self.model=newmodel\n",
    "    def changeengine(self,newengine):\n",
    "        self.engine=newengine\n",
    "a=Car('2018','grey','audi','5','1800cc')\n",
    "print(a.model)\n",
    "print(a.color)\n",
    "print(a.name)\n",
    "print(a.seats)\n",
    "print(a.engine)"
   ]
  },
  {
   "cell_type": "code",
   "execution_count": null,
   "metadata": {},
   "outputs": [],
   "source": []
  }
 ],
 "metadata": {
  "kernelspec": {
   "display_name": "Python 3",
   "language": "python",
   "name": "python3"
  },
  "language_info": {
   "codemirror_mode": {
    "name": "ipython",
    "version": 3
   },
   "file_extension": ".py",
   "mimetype": "text/x-python",
   "name": "python",
   "nbconvert_exporter": "python",
   "pygments_lexer": "ipython3",
   "version": "3.7.4"
  }
 },
 "nbformat": 4,
 "nbformat_minor": 2
}
